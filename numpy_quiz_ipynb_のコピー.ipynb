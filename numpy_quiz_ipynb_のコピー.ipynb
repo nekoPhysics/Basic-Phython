{
  "nbformat": 4,
  "nbformat_minor": 0,
  "metadata": {
    "kernelspec": {
      "display_name": "Python 3",
      "language": "python",
      "name": "python3"
    },
    "language_info": {
      "codemirror_mode": {
        "name": "ipython",
        "version": 3
      },
      "file_extension": ".py",
      "mimetype": "text/x-python",
      "name": "python",
      "nbconvert_exporter": "python",
      "pygments_lexer": "ipython3",
      "version": "3.7.4"
    },
    "colab": {
      "provenance": [],
      "include_colab_link": true
    }
  },
  "cells": [
    {
      "cell_type": "markdown",
      "metadata": {
        "id": "view-in-github",
        "colab_type": "text"
      },
      "source": [
        "<a href=\"https://colab.research.google.com/github/nekoPhysics/Basic-Phython/blob/NumPy/numpy_quiz_ipynb_%E3%81%AE%E3%82%B3%E3%83%94%E3%83%BC.ipynb\" target=\"_parent\"><img src=\"https://colab.research.google.com/assets/colab-badge.svg\" alt=\"Open In Colab\"/></a>"
      ]
    },
    {
      "cell_type": "markdown",
      "metadata": {
        "id": "6kB4QGKLeIzL"
      },
      "source": [
        "# Numpyの確認課題"
      ]
    },
    {
      "cell_type": "markdown",
      "metadata": {
        "id": "sEP7aksheIzO"
      },
      "source": [
        "## 必要モジュールのインポート\n",
        "\n",
        "この問題で使うモジュールをインポートします．"
      ]
    },
    {
      "cell_type": "code",
      "metadata": {
        "id": "I6jCYUepeIzP"
      },
      "source": [
        "import matplotlib.pyplot as plt\n",
        "import numpy as np\n",
        "\n",
        "np.random.seed(0)"
      ],
      "execution_count": null,
      "outputs": []
    },
    {
      "cell_type": "markdown",
      "metadata": {
        "id": "jj1GAuS8eIzQ"
      },
      "source": [
        "---"
      ]
    },
    {
      "cell_type": "markdown",
      "metadata": {
        "id": "oyOPxfX5eIzQ"
      },
      "source": [
        "### 問1. `ndarray`の生成\n",
        "\n",
        "以下の2つの`ndarray`を定義しなさい．\n",
        "- 観測値 `x`: 初項`0`，末項`5`，項数`100`の等差数列\n",
        "- ノイズ `noise`: 標準正規分布に従う`100`個の乱数"
      ]
    },
    {
      "cell_type": "code",
      "metadata": {
        "id": "IzWE5AFWeIzR"
      },
      "source": [
        "from numpy.core.multiarray import ndarray\n",
        "x = np.arange(0 ,5 ,5 /100)\n",
        "noise = np.random.randn(100)"
      ],
      "execution_count": null,
      "outputs": []
    },
    {
      "cell_type": "markdown",
      "metadata": {
        "id": "XhdJo1x9eIzR"
      },
      "source": [
        "---"
      ]
    },
    {
      "cell_type": "markdown",
      "metadata": {
        "id": "OVCDLbNTeIzR"
      },
      "source": [
        "ここで，真の関数 $y(x) = 3 - 5x + x^2$ を定義します．"
      ]
    },
    {
      "cell_type": "code",
      "metadata": {
        "id": "8kXxx5uNeIzS"
      },
      "source": [
        "def y(x):\n",
        "    \"\"\"真の関数\"\"\"\n",
        "    return 3 - 5 * x + x ** 2"
      ],
      "execution_count": null,
      "outputs": []
    },
    {
      "cell_type": "markdown",
      "metadata": {
        "id": "eWMGO0rpeI0W"
      },
      "source": [
        "### 問2． `ndarray`の操作\n",
        "\n",
        "問1で生成した観測値 `x` に対応する目標値 `t` を定義しなさい．\n",
        "\n",
        "目標値 $t$ は， $t = y(x) + \\epsilon$ と表されます．  ( $y$: 真の関数, $\\epsilon$: ノイズ )  \n",
        "実際の観測値にはどうしてもノイズ(観測誤差)が発生してしまいます．今回は，それを`noise`で再現します．\n",
        "\n",
        "問1で観測値を100個生成したので，それぞれに対応する目標値も100個作成する必要がありますが， `for` 文は絶対使ってはいけません．"
      ]
    },
    {
      "cell_type": "code",
      "metadata": {
        "id": "_XEkh2uneI0W"
      },
      "source": [
        "t = y(x) + noise\n"
      ],
      "execution_count": null,
      "outputs": []
    },
    {
      "cell_type": "markdown",
      "metadata": {
        "id": "wSTjE9ldeI0Y"
      },
      "source": [
        "matplotlib で可視化すると以下のようなグラフになります．\n",
        "scatter → 散布図"
      ]
    },
    {
      "cell_type": "code",
      "metadata": {
        "id": "t3-ETQUveI0Y",
        "colab": {
          "base_uri": "https://localhost:8080/",
          "height": 452
        },
        "outputId": "a9583f6a-cd02-4f2f-9986-5b5482c7918d"
      },
      "source": [
        "plt.scatter(x, t)"
      ],
      "execution_count": null,
      "outputs": [
        {
          "output_type": "execute_result",
          "data": {
            "text/plain": [
              "<matplotlib.collections.PathCollection at 0x7f7fed3631c0>"
            ]
          },
          "metadata": {},
          "execution_count": 58
        },
        {
          "output_type": "display_data",
          "data": {
            "text/plain": [
              "<Figure size 640x480 with 1 Axes>"
            ],
            "image/png": "[encoded data removed]"
          },
          "metadata": {}
        }
      ]
    },
    {
      "cell_type": "markdown",
      "metadata": {
        "id": "uek1MdmceI0Y"
      },
      "source": [
        "---"
      ]
    },
    {
      "cell_type": "markdown",
      "metadata": {
        "id": "Rk0GlsHreI0Z"
      },
      "source": [
        "### 問3. `ndarray`の結合\n",
        "\n",
        "以下の3つの`ndarray`を垂直方向に結合した2次元配列を転置した行列 `X` を定義しなさい．\n",
        "\n",
        "- x0: 長さが `x` と同じで要素が全て1の`ndarray`\n",
        "- x1: 観測値 `x` の各要素を1乗した`ndarray`\n",
        "- x2: 観測値 `x` の各要素を2乗した`ndarray`\n",
        "\n",
        "例： $x = (1, 2, 3)$ のとき，\n",
        "\n",
        "$$\n",
        "x_0 = (1, 1, 1)\\\\\n",
        "x_1 = (1, 2, 3)\\\\\n",
        "x_2 = (1, 4, 9)\n",
        "$$\n",
        "\n",
        "だから，\n",
        "\n",
        "$$\n",
        "X = \\left(\n",
        "\\begin{array}{ccc}\n",
        "    1 & 1 & 1 \\\\\n",
        "    1 & 2 & 3 \\\\\n",
        "    1 & 4 & 9\n",
        "\\end{array}\n",
        "\\right)^T\n",
        "= \\left(\n",
        "\\begin{array}{ccc}\n",
        "    1 & 1 & 1 \\\\\n",
        "    1 & 2 & 4 \\\\\n",
        "    1 & 3 & 9\n",
        "\\end{array}\n",
        "\\right)\n",
        "$$\n",
        "\n",
        "ちなみに，機械学習では `X` のような行列を計画行列と呼びます．"
      ]
    },
    {
      "cell_type": "code",
      "metadata": {
        "id": "ad25j6rweI0Z",
        "colab": {
          "base_uri": "https://localhost:8080/"
        },
        "outputId": "c04f82b7-5266-4639-ed00-e6a7f1c27e6e"
      },
      "source": [
        "x0 = np.ones(len(x))\n",
        "x1 = x ** 1\n",
        "x2 = x ** 2\n",
        "\n",
        "print(x0, x1, x2)\n",
        "\n",
        "# x0,x1,x2　を行に並べてを転置した物をXとし、X_TをXを転置した物とする。\n",
        "X = np.vstack([x0, x1, x2]).T\n",
        "X_T = np.vstack([x0, x1, x2])\n",
        "\n",
        "print(X, X_T)"
      ],
      "execution_count": null,
      "outputs": [
        {
          "output_type": "stream",
          "name": "stdout",
          "text": [
            "[1. 1. 1. 1. 1. 1. 1. 1. 1. 1. 1. 1. 1. 1. 1. 1. 1. 1. 1. 1. 1. 1. 1. 1.\n",
            " 1. 1. 1. 1. 1. 1. 1. 1. 1. 1. 1. 1. 1. 1. 1. 1. 1. 1. 1. 1. 1. 1. 1. 1.\n",
            " 1. 1. 1. 1. 1. 1. 1. 1. 1. 1. 1. 1. 1. 1. 1. 1. 1. 1. 1. 1. 1. 1. 1. 1.\n",
            " 1. 1. 1. 1. 1. 1. 1. 1. 1. 1. 1. 1. 1. 1. 1. 1. 1. 1. 1. 1. 1. 1. 1. 1.\n",
            " 1. 1. 1. 1.] [0.   0.05 0.1  0.15 0.2  0.25 0.3  0.35 0.4  0.45 0.5  0.55 0.6  0.65\n",
            " 0.7  0.75 0.8  0.85 0.9  0.95 1.   1.05 1.1  1.15 1.2  1.25 1.3  1.35\n",
            " 1.4  1.45 1.5  1.55 1.6  1.65 1.7  1.75 1.8  1.85 1.9  1.95 2.   2.05\n",
            " 2.1  2.15 2.2  2.25 2.3  2.35 2.4  2.45 2.5  2.55 2.6  2.65 2.7  2.75\n",
            " 2.8  2.85 2.9  2.95 3.   3.05 3.1  3.15 3.2  3.25 3.3  3.35 3.4  3.45\n",
            " 3.5  3.55 3.6  3.65 3.7  3.75 3.8  3.85 3.9  3.95 4.   4.05 4.1  4.15\n",
            " 4.2  4.25 4.3  4.35 4.4  4.45 4.5  4.55 4.6  4.65 4.7  4.75 4.8  4.85\n",
            " 4.9  4.95] [0.00000e+00 2.50000e-03 1.00000e-02 2.25000e-02 4.00000e-02 6.25000e-02\n",
            " 9.00000e-02 1.22500e-01 1.60000e-01 2.02500e-01 2.50000e-01 3.02500e-01\n",
            " 3.60000e-01 4.22500e-01 4.90000e-01 5.62500e-01 6.40000e-01 7.22500e-01\n",
            " 8.10000e-01 9.02500e-01 1.00000e+00 1.10250e+00 1.21000e+00 1.32250e+00\n",
            " 1.44000e+00 1.56250e+00 1.69000e+00 1.82250e+00 1.96000e+00 2.10250e+00\n",
            " 2.25000e+00 2.40250e+00 2.56000e+00 2.72250e+00 2.89000e+00 3.06250e+00\n",
            " 3.24000e+00 3.42250e+00 3.61000e+00 3.80250e+00 4.00000e+00 4.20250e+00\n",
            " 4.41000e+00 4.62250e+00 4.84000e+00 5.06250e+00 5.29000e+00 5.52250e+00\n",
            " 5.76000e+00 6.00250e+00 6.25000e+00 6.50250e+00 6.76000e+00 7.02250e+00\n",
            " 7.29000e+00 7.56250e+00 7.84000e+00 8.12250e+00 8.41000e+00 8.70250e+00\n",
            " 9.00000e+00 9.30250e+00 9.61000e+00 9.92250e+00 1.02400e+01 1.05625e+01\n",
            " 1.08900e+01 1.12225e+01 1.15600e+01 1.19025e+01 1.22500e+01 1.26025e+01\n",
            " 1.29600e+01 1.33225e+01 1.36900e+01 1.40625e+01 1.44400e+01 1.48225e+01\n",
            " 1.52100e+01 1.56025e+01 1.60000e+01 1.64025e+01 1.68100e+01 1.72225e+01\n",
            " 1.76400e+01 1.80625e+01 1.84900e+01 1.89225e+01 1.93600e+01 1.98025e+01\n",
            " 2.02500e+01 2.07025e+01 2.11600e+01 2.16225e+01 2.20900e+01 2.25625e+01\n",
            " 2.30400e+01 2.35225e+01 2.40100e+01 2.45025e+01]\n",
            "[[1.00000e+00 0.00000e+00 0.00000e+00]\n",
            " [1.00000e+00 5.00000e-02 2.50000e-03]\n",
            " [1.00000e+00 1.00000e-01 1.00000e-02]\n",
            " [1.00000e+00 1.50000e-01 2.25000e-02]\n",
            " [1.00000e+00 2.00000e-01 4.00000e-02]\n",
            " [1.00000e+00 2.50000e-01 6.25000e-02]\n",
            " [1.00000e+00 3.00000e-01 9.00000e-02]\n",
            " [1.00000e+00 3.50000e-01 1.22500e-01]\n",
            " [1.00000e+00 4.00000e-01 1.60000e-01]\n",
            " [1.00000e+00 4.50000e-01 2.02500e-01]\n",
            " [1.00000e+00 5.00000e-01 2.50000e-01]\n",
            " [1.00000e+00 5.50000e-01 3.02500e-01]\n",
            " [1.00000e+00 6.00000e-01 3.60000e-01]\n",
            " [1.00000e+00 6.50000e-01 4.22500e-01]\n",
            " [1.00000e+00 7.00000e-01 4.90000e-01]\n",
            " [1.00000e+00 7.50000e-01 5.62500e-01]\n",
            " [1.00000e+00 8.00000e-01 6.40000e-01]\n",
            " [1.00000e+00 8.50000e-01 7.22500e-01]\n",
            " [1.00000e+00 9.00000e-01 8.10000e-01]\n",
            " [1.00000e+00 9.50000e-01 9.02500e-01]\n",
            " [1.00000e+00 1.00000e+00 1.00000e+00]\n",
            " [1.00000e+00 1.05000e+00 1.10250e+00]\n",
            " [1.00000e+00 1.10000e+00 1.21000e+00]\n",
            " [1.00000e+00 1.15000e+00 1.32250e+00]\n",
            " [1.00000e+00 1.20000e+00 1.44000e+00]\n",
            " [1.00000e+00 1.25000e+00 1.56250e+00]\n",
            " [1.00000e+00 1.30000e+00 1.69000e+00]\n",
            " [1.00000e+00 1.35000e+00 1.82250e+00]\n",
            " [1.00000e+00 1.40000e+00 1.96000e+00]\n",
            " [1.00000e+00 1.45000e+00 2.10250e+00]\n",
            " [1.00000e+00 1.50000e+00 2.25000e+00]\n",
            " [1.00000e+00 1.55000e+00 2.40250e+00]\n",
            " [1.00000e+00 1.60000e+00 2.56000e+00]\n",
            " [1.00000e+00 1.65000e+00 2.72250e+00]\n",
            " [1.00000e+00 1.70000e+00 2.89000e+00]\n",
            " [1.00000e+00 1.75000e+00 3.06250e+00]\n",
            " [1.00000e+00 1.80000e+00 3.24000e+00]\n",
            " [1.00000e+00 1.85000e+00 3.42250e+00]\n",
            " [1.00000e+00 1.90000e+00 3.61000e+00]\n",
            " [1.00000e+00 1.95000e+00 3.80250e+00]\n",
            " [1.00000e+00 2.00000e+00 4.00000e+00]\n",
            " [1.00000e+00 2.05000e+00 4.20250e+00]\n",
            " [1.00000e+00 2.10000e+00 4.41000e+00]\n",
            " [1.00000e+00 2.15000e+00 4.62250e+00]\n",
            " [1.00000e+00 2.20000e+00 4.84000e+00]\n",
            " [1.00000e+00 2.25000e+00 5.06250e+00]\n",
            " [1.00000e+00 2.30000e+00 5.29000e+00]\n",
            " [1.00000e+00 2.35000e+00 5.52250e+00]\n",
            " [1.00000e+00 2.40000e+00 5.76000e+00]\n",
            " [1.00000e+00 2.45000e+00 6.00250e+00]\n",
            " [1.00000e+00 2.50000e+00 6.25000e+00]\n",
            " [1.00000e+00 2.55000e+00 6.50250e+00]\n",
            " [1.00000e+00 2.60000e+00 6.76000e+00]\n",
            " [1.00000e+00 2.65000e+00 7.02250e+00]\n",
            " [1.00000e+00 2.70000e+00 7.29000e+00]\n",
            " [1.00000e+00 2.75000e+00 7.56250e+00]\n",
            " [1.00000e+00 2.80000e+00 7.84000e+00]\n",
            " [1.00000e+00 2.85000e+00 8.12250e+00]\n",
            " [1.00000e+00 2.90000e+00 8.41000e+00]\n",
            " [1.00000e+00 2.95000e+00 8.70250e+00]\n",
            " [1.00000e+00 3.00000e+00 9.00000e+00]\n",
            " [1.00000e+00 3.05000e+00 9.30250e+00]\n",
            " [1.00000e+00 3.10000e+00 9.61000e+00]\n",
            " [1.00000e+00 3.15000e+00 9.92250e+00]\n",
            " [1.00000e+00 3.20000e+00 1.02400e+01]\n",
            " [1.00000e+00 3.25000e+00 1.05625e+01]\n",
            " [1.00000e+00 3.30000e+00 1.08900e+01]\n",
            " [1.00000e+00 3.35000e+00 1.12225e+01]\n",
            " [1.00000e+00 3.40000e+00 1.15600e+01]\n",
            " [1.00000e+00 3.45000e+00 1.19025e+01]\n",
            " [1.00000e+00 3.50000e+00 1.22500e+01]\n",
            " [1.00000e+00 3.55000e+00 1.26025e+01]\n",
            " [1.00000e+00 3.60000e+00 1.29600e+01]\n",
            " [1.00000e+00 3.65000e+00 1.33225e+01]\n",
            " [1.00000e+00 3.70000e+00 1.36900e+01]\n",
            " [1.00000e+00 3.75000e+00 1.40625e+01]\n",
            " [1.00000e+00 3.80000e+00 1.44400e+01]\n",
            " [1.00000e+00 3.85000e+00 1.48225e+01]\n",
            " [1.00000e+00 3.90000e+00 1.52100e+01]\n",
            " [1.00000e+00 3.95000e+00 1.56025e+01]\n",
            " [1.00000e+00 4.00000e+00 1.60000e+01]\n",
            " [1.00000e+00 4.05000e+00 1.64025e+01]\n",
            " [1.00000e+00 4.10000e+00 1.68100e+01]\n",
            " [1.00000e+00 4.15000e+00 1.72225e+01]\n",
            " [1.00000e+00 4.20000e+00 1.76400e+01]\n",
            " [1.00000e+00 4.25000e+00 1.80625e+01]\n",
            " [1.00000e+00 4.30000e+00 1.84900e+01]\n",
            " [1.00000e+00 4.35000e+00 1.89225e+01]\n",
            " [1.00000e+00 4.40000e+00 1.93600e+01]\n",
            " [1.00000e+00 4.45000e+00 1.98025e+01]\n",
            " [1.00000e+00 4.50000e+00 2.02500e+01]\n",
            " [1.00000e+00 4.55000e+00 2.07025e+01]\n",
            " [1.00000e+00 4.60000e+00 2.11600e+01]\n",
            " [1.00000e+00 4.65000e+00 2.16225e+01]\n",
            " [1.00000e+00 4.70000e+00 2.20900e+01]\n",
            " [1.00000e+00 4.75000e+00 2.25625e+01]\n",
            " [1.00000e+00 4.80000e+00 2.30400e+01]\n",
            " [1.00000e+00 4.85000e+00 2.35225e+01]\n",
            " [1.00000e+00 4.90000e+00 2.40100e+01]\n",
            " [1.00000e+00 4.95000e+00 2.45025e+01]] [[1.00000e+00 1.00000e+00 1.00000e+00 1.00000e+00 1.00000e+00 1.00000e+00\n",
            "  1.00000e+00 1.00000e+00 1.00000e+00 1.00000e+00 1.00000e+00 1.00000e+00\n",
            "  1.00000e+00 1.00000e+00 1.00000e+00 1.00000e+00 1.00000e+00 1.00000e+00\n",
            "  1.00000e+00 1.00000e+00 1.00000e+00 1.00000e+00 1.00000e+00 1.00000e+00\n",
            "  1.00000e+00 1.00000e+00 1.00000e+00 1.00000e+00 1.00000e+00 1.00000e+00\n",
            "  1.00000e+00 1.00000e+00 1.00000e+00 1.00000e+00 1.00000e+00 1.00000e+00\n",
            "  1.00000e+00 1.00000e+00 1.00000e+00 1.00000e+00 1.00000e+00 1.00000e+00\n",
            "  1.00000e+00 1.00000e+00 1.00000e+00 1.00000e+00 1.00000e+00 1.00000e+00\n",
            "  1.00000e+00 1.00000e+00 1.00000e+00 1.00000e+00 1.00000e+00 1.00000e+00\n",
            "  1.00000e+00 1.00000e+00 1.00000e+00 1.00000e+00 1.00000e+00 1.00000e+00\n",
            "  1.00000e+00 1.00000e+00 1.00000e+00 1.00000e+00 1.00000e+00 1.00000e+00\n",
            "  1.00000e+00 1.00000e+00 1.00000e+00 1.00000e+00 1.00000e+00 1.00000e+00\n",
            "  1.00000e+00 1.00000e+00 1.00000e+00 1.00000e+00 1.00000e+00 1.00000e+00\n",
            "  1.00000e+00 1.00000e+00 1.00000e+00 1.00000e+00 1.00000e+00 1.00000e+00\n",
            "  1.00000e+00 1.00000e+00 1.00000e+00 1.00000e+00 1.00000e+00 1.00000e+00\n",
            "  1.00000e+00 1.00000e+00 1.00000e+00 1.00000e+00 1.00000e+00 1.00000e+00\n",
            "  1.00000e+00 1.00000e+00 1.00000e+00 1.00000e+00]\n",
            " [0.00000e+00 5.00000e-02 1.00000e-01 1.50000e-01 2.00000e-01 2.50000e-01\n",
            "  3.00000e-01 3.50000e-01 4.00000e-01 4.50000e-01 5.00000e-01 5.50000e-01\n",
            "  6.00000e-01 6.50000e-01 7.00000e-01 7.50000e-01 8.00000e-01 8.50000e-01\n",
            "  9.00000e-01 9.50000e-01 1.00000e+00 1.05000e+00 1.10000e+00 1.15000e+00\n",
            "  1.20000e+00 1.25000e+00 1.30000e+00 1.35000e+00 1.40000e+00 1.45000e+00\n",
            "  1.50000e+00 1.55000e+00 1.60000e+00 1.65000e+00 1.70000e+00 1.75000e+00\n",
            "  1.80000e+00 1.85000e+00 1.90000e+00 1.95000e+00 2.00000e+00 2.05000e+00\n",
            "  2.10000e+00 2.15000e+00 2.20000e+00 2.25000e+00 2.30000e+00 2.35000e+00\n",
            "  2.40000e+00 2.45000e+00 2.50000e+00 2.55000e+00 2.60000e+00 2.65000e+00\n",
            "  2.70000e+00 2.75000e+00 2.80000e+00 2.85000e+00 2.90000e+00 2.95000e+00\n",
            "  3.00000e+00 3.05000e+00 3.10000e+00 3.15000e+00 3.20000e+00 3.25000e+00\n",
            "  3.30000e+00 3.35000e+00 3.40000e+00 3.45000e+00 3.50000e+00 3.55000e+00\n",
            "  3.60000e+00 3.65000e+00 3.70000e+00 3.75000e+00 3.80000e+00 3.85000e+00\n",
            "  3.90000e+00 3.95000e+00 4.00000e+00 4.05000e+00 4.10000e+00 4.15000e+00\n",
            "  4.20000e+00 4.25000e+00 4.30000e+00 4.35000e+00 4.40000e+00 4.45000e+00\n",
            "  4.50000e+00 4.55000e+00 4.60000e+00 4.65000e+00 4.70000e+00 4.75000e+00\n",
            "  4.80000e+00 4.85000e+00 4.90000e+00 4.95000e+00]\n",
            " [0.00000e+00 2.50000e-03 1.00000e-02 2.25000e-02 4.00000e-02 6.25000e-02\n",
            "  9.00000e-02 1.22500e-01 1.60000e-01 2.02500e-01 2.50000e-01 3.02500e-01\n",
            "  3.60000e-01 4.22500e-01 4.90000e-01 5.62500e-01 6.40000e-01 7.22500e-01\n",
            "  8.10000e-01 9.02500e-01 1.00000e+00 1.10250e+00 1.21000e+00 1.32250e+00\n",
            "  1.44000e+00 1.56250e+00 1.69000e+00 1.82250e+00 1.96000e+00 2.10250e+00\n",
            "  2.25000e+00 2.40250e+00 2.56000e+00 2.72250e+00 2.89000e+00 3.06250e+00\n",
            "  3.24000e+00 3.42250e+00 3.61000e+00 3.80250e+00 4.00000e+00 4.20250e+00\n",
            "  4.41000e+00 4.62250e+00 4.84000e+00 5.06250e+00 5.29000e+00 5.52250e+00\n",
            "  5.76000e+00 6.00250e+00 6.25000e+00 6.50250e+00 6.76000e+00 7.02250e+00\n",
            "  7.29000e+00 7.56250e+00 7.84000e+00 8.12250e+00 8.41000e+00 8.70250e+00\n",
            "  9.00000e+00 9.30250e+00 9.61000e+00 9.92250e+00 1.02400e+01 1.05625e+01\n",
            "  1.08900e+01 1.12225e+01 1.15600e+01 1.19025e+01 1.22500e+01 1.26025e+01\n",
            "  1.29600e+01 1.33225e+01 1.36900e+01 1.40625e+01 1.44400e+01 1.48225e+01\n",
            "  1.52100e+01 1.56025e+01 1.60000e+01 1.64025e+01 1.68100e+01 1.72225e+01\n",
            "  1.76400e+01 1.80625e+01 1.84900e+01 1.89225e+01 1.93600e+01 1.98025e+01\n",
            "  2.02500e+01 2.07025e+01 2.11600e+01 2.16225e+01 2.20900e+01 2.25625e+01\n",
            "  2.30400e+01 2.35225e+01 2.40100e+01 2.45025e+01]]\n"
          ]
        }
      ]
    },
    {
      "cell_type": "markdown",
      "metadata": {
        "id": "vTVz_4rDeI0Z"
      },
      "source": [
        "---"
      ]
    },
    {
      "cell_type": "markdown",
      "metadata": {
        "id": "FsitQ7T9eI0Z"
      },
      "source": [
        "### 問4. 線形代数\n",
        "\n",
        "観測値 `x, t` をもとに真の関数 `y` を2次関数で回帰しなさい．\n",
        "\n",
        "任意の2次関数は $y(x) = w_0 + w_1 x + w_2 x^2$ と表すことができます．  \n",
        "なので，パラメータのベクトル $\\mathbf{w} = (w_0, w_1, w_2)$ を求めれば良いことになります．\n",
        "\n",
        "これは以下の正規方程式から求めることができます．\n",
        "\n",
        "$ \\mathbf{w} = (X^T X)^{-1} X^T \\mathbf{t} $\n",
        "\n",
        "この式の導出はdev_data勉強会で学びます．\n",
        "\n",
        "行列の積が多い場合は`np.dot`を使わない方が簡潔に書けます．"
      ]
    },
    {
      "cell_type": "markdown",
      "metadata": {
        "id": "A3N62PQdeI0a"
      },
      "source": [
        "---"
      ]
    },
    {
      "cell_type": "code",
      "source": [
        "w0, w1, w2 = np.linalg.inv(X_T @ X) @ X_T @ t\n",
        "pred_y = w0 + w1 * x + w2 * x ** 2"
      ],
      "metadata": {
        "id": "DJtV4dtzcbHA"
      },
      "execution_count": null,
      "outputs": []
    },
    {
      "cell_type": "markdown",
      "metadata": {
        "id": "5AB-JrCWeI0a"
      },
      "source": [
        "### 結果\n",
        "\n",
        "先ほどのグラフに真の関数(緑)と回帰曲線(赤)を重ねると以下のようになります．"
      ]
    },
    {
      "cell_type": "code",
      "metadata": {
        "id": "jmIqb9YSeI0a",
        "colab": {
          "base_uri": "https://localhost:8080/",
          "height": 452
        },
        "outputId": "5f84017a-a5fc-4a0f-8a5f-5025f35a1459"
      },
      "source": [
        "plt.scatter(x, t)\n",
        "plt.plot(x, pred_y, linewidth=5, color=\"red\", label=\"pred\")\n",
        "plt.plot(x, y(x), linewidth=5, color=\"green\", label=\"true\")\n",
        "plt.legend()"
      ],
      "execution_count": null,
      "outputs": [
        {
          "output_type": "execute_result",
          "data": {
            "text/plain": [
              "<matplotlib.legend.Legend at 0x7f7fed2962b0>"
            ]
          },
          "metadata": {},
          "execution_count": 106
        },
        {
          "output_type": "display_data",
          "data": {
            "text/plain": [
              "<Figure size 640x480 with 1 Axes>"
            ],
            "image/png": "[encoded data removed]"
          },
          "metadata": {}
        }
      ]
    },
    {
      "cell_type": "markdown",
      "metadata": {
        "id": "zyYubGoPeI0b"
      },
      "source": [
        "今回使った手法は 真の関数 `y` の定義を変更するとその他のコードを全く変更しなくても同様に回帰することができます．\n",
        "\n",
        "例えば以下のように変更したらその関数を回帰します．\n",
        "\n",
        "```python\n",
        "def y(x):\n",
        "    \"\"\"真の関数\"\"\"\n",
        "    return 5 * np.sin(np.pi * x / 5)\n",
        "```\n",
        "dev_data勉強会で詳しくやりますが，この回帰曲線の表現力は2次までです．\n",
        "カーブが2つ以上の曲線を回帰したい場合は問3の計画行列の列数を　`x3, x4...`　のように増やせば表現力が上がります．"
      ]
    },
    {
      "cell_type": "code",
      "metadata": {
        "id": "D2wSS_WReI0b"
      },
      "source": [],
      "execution_count": null,
      "outputs": []
    }
  ]
}